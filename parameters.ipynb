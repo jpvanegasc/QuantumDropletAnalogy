{
 "metadata": {
  "language_info": {
   "codemirror_mode": {
    "name": "ipython",
    "version": 3
   },
   "file_extension": ".py",
   "mimetype": "text/x-python",
   "name": "python",
   "nbconvert_exporter": "python",
   "pygments_lexer": "ipython3",
   "version": "3.8.5-final"
  },
  "orig_nbformat": 2,
  "kernelspec": {
   "name": "python3",
   "display_name": "Python 3",
   "language": "python"
  }
 },
 "nbformat": 4,
 "nbformat_minor": 2,
 "cells": [
  {
   "source": [
    "# Parameters\n",
    "This notebook calculates parameters for the fluids LB"
   ],
   "cell_type": "markdown",
   "metadata": {}
  },
  {
   "cell_type": "code",
   "execution_count": 2,
   "metadata": {},
   "outputs": [
    {
     "output_type": "stream",
     "name": "stdout",
     "text": [
      "Number of nodes in x: 280\nNumber of nodes in y: 280\nNumber of nodes in z: 16\n\ntau: 0.6\ndt: 4.0208e-05 s\nNumber of steps = 2.5e+06\n\nGravity acceleration: 6.3375e-05\nOmega: 2*pi*2.0104e-03\n"
     ]
    }
   ],
   "source": [
    "import numpy as np\n",
    "import astropy.units as un\n",
    "\n",
    "# LB\n",
    "#dt = 1e-4*un.s\n",
    "tau = 0.6\n",
    "\n",
    "# Oil parameters\n",
    "mu = 50e-3*un.Pa*un.s\n",
    "rho = 0.965e3*un.kg/(un.m**3)\n",
    "\n",
    "# Spacetime parameters\n",
    "Lx = Ly = 70e-3*un.m\n",
    "Lz = 4e-3*un.m\n",
    "\n",
    "\n",
    "dl = 2.5e-4*un.m # Spacing between nodes\n",
    "tmax = 100*un.s\n",
    "f = 50*un.Hz\n",
    "\n",
    "# LB fluid parameters\n",
    "nu = mu/rho # Kinematic viscosity\n",
    "\n",
    "#tau = (3*nu*dt/(dl**2)) + 0.5\n",
    "dt = (tau -0.5)*dl**2/(3*nu)\n",
    "g = 9.8*un.m/(un.s**2)\n",
    "\n",
    "print(f\"Number of nodes in x: {Lx/dl:.0f}\")\n",
    "print(f\"Number of nodes in y: {Ly/dl:.0f}\")\n",
    "print(f\"Number of nodes in z: {Lz/dl:.0f}\")\n",
    "print('')\n",
    "print(f\"tau: {tau}\")\n",
    "print(f\"dt: {dt.decompose():.4e}\")\n",
    "print(f\"Number of steps = {(tmax/dt).decompose():.1e}\")\n",
    "print('')\n",
    "print(f\"Gravity acceleration: {(g*(dt**2)/dl).decompose():.4e}\")\n",
    "print(f\"Omega: 2*pi*{(f*dt).decompose():.4e}\")\n",
    "\n",
    "\n"
   ]
  },
  {
   "cell_type": "code",
   "execution_count": 3,
   "metadata": {},
   "outputs": [
    {
     "output_type": "stream",
     "name": "stdout",
     "text": [
      "Drop computational radius: 4.0\nDrop mass: 4.042182547618867e-06 kg\n"
     ]
    }
   ],
   "source": [
    "drop_r = 1e-3*un.m\n",
    "drop_mass = 4*np.pi*drop_r**3*rho/3\n",
    "\n",
    "print(f\"Drop computational radius: {(drop_r/dl).decompose()}\")\n",
    "print(f\"Drop mass: {drop_mass}\")"
   ]
  }
 ]
}